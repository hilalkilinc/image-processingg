{
 "cells": [
  {
   "cell_type": "code",
   "execution_count": 34,
   "metadata": {
    "collapsed": true
   },
   "outputs": [],
   "source": [
    "#a)28*28lik içeriği 0 ve 1 olan matris üretiniz\n",
    "#b)a şıkkını üreten matriste 1leri içeren mbr dikdörtgen üreten fonksiyonu yazınız.\n",
    "#c)kendisine aktarılan iki vektörün benzerliğini geri döndüren fonksiyonu yazınız.\n",
    "#d)a şıkkını ürettiğiniz fonksiyonu kullanarak 100 farklı matrislerle ilgili 1. üretilen ile diğerlerini karşlaştırıp\n",
    "#yakınlığını ve benzerliğimi listeleyiniz.\n",
    "    "
   ]
  },
  {
   "cell_type": "code",
   "execution_count": 40,
   "metadata": {
    "collapsed": true
   },
   "outputs": [],
   "source": [
    "import random\n",
    "import numpy as np"
   ]
  },
  {
   "cell_type": "code",
   "execution_count": 41,
   "metadata": {
    "collapsed": false
   },
   "outputs": [],
   "source": [
    "#a şıkkı\n",
    "\n",
    "def my_create_matris():\n",
    "    my_matris=np.zeros((28,28))\n",
    "    for i in range (28):\n",
    "        for j in range(28):\n",
    "            my_matris[i,j]=random.randint(0,1)\n",
    "    return my_matris\n"
   ]
  },
  {
   "cell_type": "code",
   "execution_count": 42,
   "metadata": {
    "collapsed": true
   },
   "outputs": [],
   "source": [
    "#b şıkkı\n",
    "def mbr_create_matris(matrix_a):\n",
    "    \n",
    "    m=matrix_a.shape[0]\n",
    "    n=matrix_a.shape[1]\n",
    "    x_min=m\n",
    "    x_max=0     #başlangıç değerleri olası en olumsuz durum\n",
    "    y_min=n\n",
    "    y_max=0\n",
    "    \n",
    "    for i in range(m):\n",
    "        for j in range(n):\n",
    "            if(matrix_a[i,j]==1 and x_min>i):       #resim/matris üzerinden\n",
    "                x_min=i                            #x_min,..... güncelleniyor\n",
    "            if(matrix_a[i,j]==1 and x_max<i):\n",
    "                x_max=i\n",
    "            if(matrix_a[i,j]==1 and y_min>i):\n",
    "                y_min=i\n",
    "            if(matrix_a[i,j]==1 and y_max<i):\n",
    "                y_max=i\n",
    "            \n",
    "    return (x_min,x_max,y_min,y_max)"
   ]
  },
  {
   "cell_type": "code",
   "execution_count": 43,
   "metadata": {
    "collapsed": false
   },
   "outputs": [],
   "source": [
    "#c şıkkı\n",
    "def get_similarity(character_a,character_b):\n",
    "    m=character_a.shape[0]\n",
    "    n=character_a.shape[1]\n",
    "    my_similarity=0\n",
    "    for i in range(m):\n",
    "        for j in range(n):\n",
    "            my_similarity=my_similarity+character_a[i,j]*character_b[i,j]\n",
    "    return my_similarity"
   ]
  },
  {
   "cell_type": "code",
   "execution_count": 45,
   "metadata": {
    "collapsed": false
   },
   "outputs": [
    {
     "data": {
      "text/plain": [
       "191.0"
      ]
     },
     "execution_count": 45,
     "metadata": {},
     "output_type": "execute_result"
    }
   ],
   "source": [
    "c_1=my_create_matris()\n",
    "c_2=my_create_matris()\n",
    "get_similarity(c_1,c_2)"
   ]
  },
  {
   "cell_type": "code",
   "execution_count": null,
   "metadata": {
    "collapsed": true
   },
   "outputs": [],
   "source": []
  },
  {
   "cell_type": "code",
   "execution_count": null,
   "metadata": {
    "collapsed": true
   },
   "outputs": [],
   "source": []
  }
 ],
 "metadata": {
  "anaconda-cloud": {},
  "kernelspec": {
   "display_name": "Python [default]",
   "language": "python",
   "name": "python3"
  },
  "language_info": {
   "codemirror_mode": {
    "name": "ipython",
    "version": 3
   },
   "file_extension": ".py",
   "mimetype": "text/x-python",
   "name": "python",
   "nbconvert_exporter": "python",
   "pygments_lexer": "ipython3",
   "version": "3.5.2"
  }
 },
 "nbformat": 4,
 "nbformat_minor": 1
}
